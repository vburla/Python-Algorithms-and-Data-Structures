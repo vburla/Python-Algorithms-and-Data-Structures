{
 "cells": [
  {
   "cell_type": "code",
   "execution_count": 6,
   "id": "5db1c204-f94e-4040-b99f-1f42d55ea0e7",
   "metadata": {},
   "outputs": [],
   "source": [
    "countcash=[]\n",
    "def rec_coin(target,coins):\n",
    "    min_coins = target\n",
    "\n",
    "    if target in coins:\n",
    "        return 1\n",
    "    else:\n",
    "        for i in [c for c in coins if c<=target]:\n",
    "            numcoins = 1 + rec_coin(target-i,coins)\n",
    "            if numcoins<min_coins:\n",
    "                min_coins = numcoins\n",
    "\n",
    "    return min_coins\n",
    "    \n",
    "    \n",
    "    pass"
   ]
  },
  {
   "cell_type": "code",
   "execution_count": null,
   "id": "6a0e3e53-d72f-49f2-a27c-0520e50479e5",
   "metadata": {},
   "outputs": [],
   "source": []
  },
  {
   "cell_type": "code",
   "execution_count": 7,
   "id": "ef10f516-aebe-4baf-bb2c-dce6f5b7b463",
   "metadata": {},
   "outputs": [
    {
     "data": {
      "text/plain": [
       "2"
      ]
     },
     "execution_count": 7,
     "metadata": {},
     "output_type": "execute_result"
    }
   ],
   "source": [
    "rec_coin(10,[1,5])"
   ]
  },
  {
   "cell_type": "code",
   "execution_count": 8,
   "id": "73a34b02-036d-4e25-8fd0-b6bd1f06140a",
   "metadata": {},
   "outputs": [
    {
     "ename": "KeyboardInterrupt",
     "evalue": "",
     "output_type": "error",
     "traceback": [
      "\u001b[1;31m---------------------------------------------------------------------------\u001b[0m",
      "\u001b[1;31mKeyboardInterrupt\u001b[0m                         Traceback (most recent call last)",
      "Cell \u001b[1;32mIn[8], line 1\u001b[0m\n\u001b[1;32m----> 1\u001b[0m rec_coin(\u001b[38;5;241m100\u001b[39m,[\u001b[38;5;241m1\u001b[39m,\u001b[38;5;241m5\u001b[39m,\u001b[38;5;241m10\u001b[39m,\u001b[38;5;241m20\u001b[39m])\n",
      "Cell \u001b[1;32mIn[6], line 9\u001b[0m, in \u001b[0;36mrec_coin\u001b[1;34m(target, coins)\u001b[0m\n\u001b[0;32m      7\u001b[0m \u001b[38;5;28;01melse\u001b[39;00m:\n\u001b[0;32m      8\u001b[0m     \u001b[38;5;28;01mfor\u001b[39;00m i \u001b[38;5;129;01min\u001b[39;00m [c \u001b[38;5;28;01mfor\u001b[39;00m c \u001b[38;5;129;01min\u001b[39;00m coins \u001b[38;5;28;01mif\u001b[39;00m c\u001b[38;5;241m<\u001b[39m\u001b[38;5;241m=\u001b[39mtarget]:\n\u001b[1;32m----> 9\u001b[0m         numcoins \u001b[38;5;241m=\u001b[39m \u001b[38;5;241m1\u001b[39m \u001b[38;5;241m+\u001b[39m rec_coin(target\u001b[38;5;241m-\u001b[39mi,coins)\n\u001b[0;32m     10\u001b[0m         \u001b[38;5;28;01mif\u001b[39;00m numcoins\u001b[38;5;241m<\u001b[39mmin_coins:\n\u001b[0;32m     11\u001b[0m             min_coins \u001b[38;5;241m=\u001b[39m numcoins\n",
      "Cell \u001b[1;32mIn[6], line 9\u001b[0m, in \u001b[0;36mrec_coin\u001b[1;34m(target, coins)\u001b[0m\n\u001b[0;32m      7\u001b[0m \u001b[38;5;28;01melse\u001b[39;00m:\n\u001b[0;32m      8\u001b[0m     \u001b[38;5;28;01mfor\u001b[39;00m i \u001b[38;5;129;01min\u001b[39;00m [c \u001b[38;5;28;01mfor\u001b[39;00m c \u001b[38;5;129;01min\u001b[39;00m coins \u001b[38;5;28;01mif\u001b[39;00m c\u001b[38;5;241m<\u001b[39m\u001b[38;5;241m=\u001b[39mtarget]:\n\u001b[1;32m----> 9\u001b[0m         numcoins \u001b[38;5;241m=\u001b[39m \u001b[38;5;241m1\u001b[39m \u001b[38;5;241m+\u001b[39m rec_coin(target\u001b[38;5;241m-\u001b[39mi,coins)\n\u001b[0;32m     10\u001b[0m         \u001b[38;5;28;01mif\u001b[39;00m numcoins\u001b[38;5;241m<\u001b[39mmin_coins:\n\u001b[0;32m     11\u001b[0m             min_coins \u001b[38;5;241m=\u001b[39m numcoins\n",
      "    \u001b[1;31m[... skipping similar frames: rec_coin at line 9 (44 times)]\u001b[0m\n",
      "Cell \u001b[1;32mIn[6], line 9\u001b[0m, in \u001b[0;36mrec_coin\u001b[1;34m(target, coins)\u001b[0m\n\u001b[0;32m      7\u001b[0m \u001b[38;5;28;01melse\u001b[39;00m:\n\u001b[0;32m      8\u001b[0m     \u001b[38;5;28;01mfor\u001b[39;00m i \u001b[38;5;129;01min\u001b[39;00m [c \u001b[38;5;28;01mfor\u001b[39;00m c \u001b[38;5;129;01min\u001b[39;00m coins \u001b[38;5;28;01mif\u001b[39;00m c\u001b[38;5;241m<\u001b[39m\u001b[38;5;241m=\u001b[39mtarget]:\n\u001b[1;32m----> 9\u001b[0m         numcoins \u001b[38;5;241m=\u001b[39m \u001b[38;5;241m1\u001b[39m \u001b[38;5;241m+\u001b[39m rec_coin(target\u001b[38;5;241m-\u001b[39mi,coins)\n\u001b[0;32m     10\u001b[0m         \u001b[38;5;28;01mif\u001b[39;00m numcoins\u001b[38;5;241m<\u001b[39mmin_coins:\n\u001b[0;32m     11\u001b[0m             min_coins \u001b[38;5;241m=\u001b[39m numcoins\n",
      "Cell \u001b[1;32mIn[6], line 2\u001b[0m, in \u001b[0;36mrec_coin\u001b[1;34m(target, coins)\u001b[0m\n\u001b[0;32m      1\u001b[0m countcash\u001b[38;5;241m=\u001b[39m[]\n\u001b[1;32m----> 2\u001b[0m \u001b[38;5;28;01mdef\u001b[39;00m \u001b[38;5;21mrec_coin\u001b[39m(target,coins):\n\u001b[0;32m      3\u001b[0m     min_coins \u001b[38;5;241m=\u001b[39m target\n\u001b[0;32m      5\u001b[0m     \u001b[38;5;28;01mif\u001b[39;00m target \u001b[38;5;129;01min\u001b[39;00m coins:\n",
      "\u001b[1;31mKeyboardInterrupt\u001b[0m: "
     ]
    }
   ],
   "source": [
    "rec_coin(100,[1,5,10,20])"
   ]
  },
  {
   "cell_type": "code",
   "execution_count": 30,
   "id": "39e31fa5-09b0-4f20-a525-b6670e9c73d9",
   "metadata": {},
   "outputs": [],
   "source": [
    "\n",
    "def rec_coin2(target,coins,coincashe):\n",
    "    min_coins = target\n",
    "    if target in coins:\n",
    "        coincashe[target]=1\n",
    "        return 1\n",
    "    if coincashe[target] > 0:\n",
    "        return coincashe[target]\n",
    "    else:\n",
    "        for i in [c for c in coins if c<=target]:\n",
    "            \n",
    "            numcoins = 1 + rec_coin2(target-i,coins,coincashe)\n",
    "            if numcoins<min_coins:\n",
    "                min_coins = numcoins\n",
    "                coincashe[target]=min_coins\n",
    "\n",
    "    return min_coins\n",
    "    \n",
    "    \n",
    "    pass"
   ]
  },
  {
   "cell_type": "code",
   "execution_count": 34,
   "id": "1eea9a74-3990-4ccd-ac91-6551af949795",
   "metadata": {},
   "outputs": [
    {
     "data": {
      "text/plain": [
       "8"
      ]
     },
     "execution_count": 34,
     "metadata": {},
     "output_type": "execute_result"
    }
   ],
   "source": [
    "target=74\n",
    "coins=[1,5,10,25]\n",
    "known_results = [0]*(target+1)\n",
    "rec_coin2(target,coins,known_results)"
   ]
  },
  {
   "cell_type": "code",
   "execution_count": null,
   "id": "3668c724-7da7-4e70-84de-922ec3606e19",
   "metadata": {},
   "outputs": [],
   "source": []
  }
 ],
 "metadata": {
  "kernelspec": {
   "display_name": "Python 3 (ipykernel)",
   "language": "python",
   "name": "python3"
  },
  "language_info": {
   "codemirror_mode": {
    "name": "ipython",
    "version": 3
   },
   "file_extension": ".py",
   "mimetype": "text/x-python",
   "name": "python",
   "nbconvert_exporter": "python",
   "pygments_lexer": "ipython3",
   "version": "3.11.7"
  }
 },
 "nbformat": 4,
 "nbformat_minor": 5
}
