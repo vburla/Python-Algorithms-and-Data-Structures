{
 "cells": [
  {
   "cell_type": "code",
   "execution_count": 1,
   "id": "115fa65e-6918-4741-971e-2e670ceb9be7",
   "metadata": {},
   "outputs": [],
   "source": [
    "class BinaryTree(object):\n",
    "    \n",
    "    def __init(self,rootObj):\n",
    "        self.key = rootObj\n",
    "        self.leftnode=None\n",
    "        self.rightnode=None\n",
    "\n",
    "    def insertleftnode(self,newNode):\n",
    "        if self.leftnode==None:\n",
    "            self.leftnode=BinaryTree(newNode)\n",
    "        else:\n",
    "            t=BinaryTree(newNode)\n",
    "            t.leftnode=self.leftnode\n",
    "            self.leftnode=t\n",
    "    def getleftnode(self):\n",
    "        return self.leftnode\n",
    "    def getrightnode(self):\n",
    "        return self.rightnode\n",
    "    def getrootnode(self):\n",
    "        return self.key\n",
    "    def setrootnode(self,val):\n",
    "        self.key = val\n",
    "\n",
    "\n",
    "    "
   ]
  },
  {
   "cell_type": "code",
   "execution_count": null,
   "id": "44beaf9a-d88f-476c-a3af-a912c378a1bd",
   "metadata": {},
   "outputs": [],
   "source": [
    "def preorder(tree):\n",
    "    if tree:\n",
    "        print(tree.getrootnode())\n",
    "        preorder(tree.getleftnode())\n",
    "        preorder(tree.getrightnode())\n",
    "        "
   ]
  },
  {
   "cell_type": "code",
   "execution_count": null,
   "id": "04be1055-206d-4701-9ff9-6fc9f04aac81",
   "metadata": {},
   "outputs": [],
   "source": [
    "def inorder(tree):\n",
    "    if tree:\n",
    "        inorder(tree.getleftnode())\n",
    "        print(tree.getrootnode())\n",
    "        inorder(tree.getrightnode())\n",
    "        "
   ]
  },
  {
   "cell_type": "code",
   "execution_count": null,
   "id": "753092da-c20d-4535-ba34-32766f347cdd",
   "metadata": {},
   "outputs": [],
   "source": [
    "\n",
    "def postorder(tree):\n",
    "    if tree:\n",
    "        postorder(tree.getleftnode())\n",
    "        postorder(tree.getrightnode())\n",
    "        print(tree.getrootnode())\n",
    "        "
   ]
  }
 ],
 "metadata": {
  "kernelspec": {
   "display_name": "Python 3 (ipykernel)",
   "language": "python",
   "name": "python3"
  },
  "language_info": {
   "codemirror_mode": {
    "name": "ipython",
    "version": 3
   },
   "file_extension": ".py",
   "mimetype": "text/x-python",
   "name": "python",
   "nbconvert_exporter": "python",
   "pygments_lexer": "ipython3",
   "version": "3.11.7"
  }
 },
 "nbformat": 4,
 "nbformat_minor": 5
}
