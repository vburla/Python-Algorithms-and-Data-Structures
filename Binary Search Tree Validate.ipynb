{
 "cells": [
  {
   "cell_type": "code",
   "execution_count": 2,
   "id": "5e92cbbc-f528-443f-8077-3d57fde7f093",
   "metadata": {},
   "outputs": [],
   "source": [
    "class BST:\n",
    "    def __init__(self,value):\n",
    "        self.val=value\n",
    "        self.leftnode=None\n",
    "        self.rightnode=None\n",
    "    \n",
    "    def hasleftchild(self):\n",
    "        return self.leftnode!=None\n",
    "    def hasrightchild(self):\n",
    "        return self.rightnode!=None\n",
    "\n",
    "def validateBST(tree):\n",
    "    if tree.hasleftchild():\n",
    "        if tree.val>tree.leftchild.val:\n",
    "            if not validateBST(tree.leftchild):\n",
    "                return False\n",
    "            else:\n",
    "                return True\n",
    "        else:\n",
    "            return False\n",
    "\n",
    "    if tree.hasrightchild():\n",
    "        if tree.val<tree.rightchild.val:\n",
    "            if not validateBST(tree.rightchild):\n",
    "                return False\n",
    "            else:\n",
    "                return True\n",
    "        else:\n",
    "            return False\n",
    "    return True"
   ]
  },
  {
   "cell_type": "code",
   "execution_count": 3,
   "id": "c32ef3be-b4ea-4d1e-b5ef-c6f30b8fccf8",
   "metadata": {},
   "outputs": [],
   "source": [
    "root = BST(10)"
   ]
  },
  {
   "cell_type": "code",
   "execution_count": 4,
   "id": "b312c814-7c9c-4787-82f2-9d9de46c8380",
   "metadata": {},
   "outputs": [],
   "source": [
    "root.left=BST(5)"
   ]
  },
  {
   "cell_type": "code",
   "execution_count": 5,
   "id": "6659b79a-1827-4cd1-bfb3-95add7ac92a4",
   "metadata": {},
   "outputs": [],
   "source": [
    "root.right = BST(20)"
   ]
  },
  {
   "cell_type": "code",
   "execution_count": 6,
   "id": "3adff7a6-4d25-4335-9caf-e5ab10cc6095",
   "metadata": {},
   "outputs": [
    {
     "data": {
      "text/plain": [
       "True"
      ]
     },
     "execution_count": 6,
     "metadata": {},
     "output_type": "execute_result"
    }
   ],
   "source": [
    "validateBST(root)"
   ]
  },
  {
   "cell_type": "code",
   "execution_count": 7,
   "id": "d0501d7a-2e6b-474c-a0e0-ca4b055ab73f",
   "metadata": {},
   "outputs": [],
   "source": [
    "root = BST(10)"
   ]
  },
  {
   "cell_type": "code",
   "execution_count": 8,
   "id": "e3196587-130e-4936-b980-303114153df7",
   "metadata": {},
   "outputs": [],
   "source": [
    "root.right = BST(20)"
   ]
  },
  {
   "cell_type": "code",
   "execution_count": 9,
   "id": "0ada8975-f853-4cf2-948b-e6159276e33c",
   "metadata": {},
   "outputs": [],
   "source": [
    "root.left = BST(5)"
   ]
  },
  {
   "cell_type": "code",
   "execution_count": 11,
   "id": "075050c4-0673-4454-87f2-b9a7c45539d1",
   "metadata": {},
   "outputs": [],
   "source": [
    "root.left.right = BST(15)"
   ]
  },
  {
   "cell_type": "code",
   "execution_count": 12,
   "id": "ea984e68-dac7-4045-a660-b37717b0aedc",
   "metadata": {},
   "outputs": [
    {
     "data": {
      "text/plain": [
       "True"
      ]
     },
     "execution_count": 12,
     "metadata": {},
     "output_type": "execute_result"
    }
   ],
   "source": [
    "validateBST(root)"
   ]
  },
  {
   "cell_type": "code",
   "execution_count": null,
   "id": "130c8a0b-6299-4aa5-9bcb-5ff95014ed68",
   "metadata": {},
   "outputs": [],
   "source": []
  }
 ],
 "metadata": {
  "kernelspec": {
   "display_name": "Python 3 (ipykernel)",
   "language": "python",
   "name": "python3"
  },
  "language_info": {
   "codemirror_mode": {
    "name": "ipython",
    "version": 3
   },
   "file_extension": ".py",
   "mimetype": "text/x-python",
   "name": "python",
   "nbconvert_exporter": "python",
   "pygments_lexer": "ipython3",
   "version": "3.11.7"
  }
 },
 "nbformat": 4,
 "nbformat_minor": 5
}
